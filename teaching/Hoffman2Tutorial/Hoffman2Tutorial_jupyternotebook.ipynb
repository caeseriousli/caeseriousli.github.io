{
 "cells": [
  {
   "cell_type": "markdown",
   "metadata": {},
   "source": [
    "# How to Use JupyterNotebook on Hoffman2 Cluster\n",
    "\n",
    "---\n",
    "\n",
    "Pre-requisites: a Hoffman2 account.\n",
    "\n",
    "Why do we want to use JupyterNotebook on Hoffman2?\n",
    "\n",
    "Answer: this UI allows us to directly modify R/Python/Julia scripts on Hoffman2 and submit them. You can also run code chunks (just like using Rmarkdown in Rstudio). If you are not uploading an entirely new script, it saves you the time for repeatedly editing locally and uploading\n",
    "\n",
    "Note: to simply use the notebook to edit and test your code is fairly easy. In the next tutorial, we will cover how to use Jupyter's powerful Conda Environment to save your R packages and submit jobs using these environments (no need for the libPaths trick covered in the first tutorial).\n",
    "\n",
    "Step 0, log in Hoffman2.\n",
    "\n",
    "(I'm demonstrating BASH Shell code in Jupyter Notebook, which requires the `$` in the front. In practice, ignore the `$`. Just type in the command, and press ENTER)"
   ]
  },
  {
   "cell_type": "markdown",
   "metadata": {},
   "source": [
    "## 1. Load anaconda app\n",
    "\n",
    "Optional Step: Per Hoffman2 policies, if you are going to <span style=\"color:red\">*run code*</span> in Jupyter-Notebook, take this step to request a computing core (or your login node could get shutdown due to excessive CPU usage.) If you are just editing code, you can skip this step to save some time."
   ]
  },
  {
   "cell_type": "code",
   "execution_count": null,
   "metadata": {},
   "outputs": [],
   "source": [
    "$ qrsh -l h_rt=10:00:00,h_data=8G"
   ]
  },
  {
   "cell_type": "markdown",
   "metadata": {},
   "source": [
    "Go Home uisng `cd`\n",
    "\n",
    "Then, load anaconda application installed on Hoffman2.\n",
    "(You can also load another anaconda version if you prefer. You can check all available modules installed on Hoffman2 by typing in `module avail`)\n"
   ]
  },
  {
   "cell_type": "code",
   "execution_count": null,
   "metadata": {},
   "outputs": [],
   "source": [
    "$ module load anaconda/python3-4.2\n",
    "\n",
    "# Then set a password to avoid a later complication. I recommend just setting it to 123. \n",
    "# This password does not protect your account or anything, just a required formality.\n",
    "# Your account is already protected by your Hoffman2 password.\n",
    "\n",
    "# You will only need to do this once:\n",
    "$ jupyter notebook password\n",
    "Enter password:  ***\n",
    "Verify password: ***"
   ]
  },
  {
   "cell_type": "markdown",
   "metadata": {},
   "source": [
    "Now we are going to check your node's unique IP address, and use it to forward the notebook to our browser."
   ]
  },
  {
   "cell_type": "code",
   "execution_count": null,
   "metadata": {},
   "outputs": [],
   "source": [
    "$ hostname -i\n",
    "\n",
    "## Then copy the ip address you see (if you see two, they should be identical. Just copy the latter one.)\n",
    "## Paste it down below\n",
    "$ jupyter-notebook --no-browser --port=9999 --ip=_YOUR_IP_"
   ]
  },
  {
   "cell_type": "markdown",
   "metadata": {},
   "source": [
    "Note that I specify the port to be 9999. You can use any port, but to be safe (avoiding conflicts with other applications using the ports), choose a four digit number above 9000. \n",
    "\n",
    "Then open a new terminal window (do not close the current one running jupyter-notebook) locally.\n",
    "Type in"
   ]
  },
  {
   "cell_type": "code",
   "execution_count": null,
   "metadata": {},
   "outputs": [],
   "source": [
    "# Should be the same IP you just copied. The port number before your IP should match the above port number\n",
    "# I am forwarding to the same local port on my machine to avoid confusion, so the port after the ip is also\n",
    "# 9999 for me. I recommend doing the same.\n",
    "$ ssh -NL 9999:_YOUR_IP_:9999 caeserio@dtn.hoffman2.idre.ucla.edu"
   ]
  },
  {
   "cell_type": "markdown",
   "metadata": {},
   "source": [
    "Final step (yes we done!),\n",
    "\n",
    "go to your browser, type in `localhost:9999` (should match the trailing port number you specified above, which is just 9999, unless you decided to go creative in the above step.)\n",
    "\n",
    "You should see your home directory now!"
   ]
  },
  {
   "cell_type": "markdown",
   "metadata": {},
   "source": [
    "## 2. Using Jupyter-notebook to edit and test code\n",
    "\n",
    "Now it's just like a local jupyter-notebook. You can browse your files in this web UI (easier than command lines), open your R scripts, and/or edit your code in a notebook.\n",
    "\n",
    "To test your code though, you need one more step to install an R kernel to your conda environment, which we will cover <span style=\"color:red\">in the next tutorial</span>."
   ]
  }
 ],
 "metadata": {
  "kernelspec": {
   "display_name": "Python 3",
   "language": "python",
   "name": "python3"
  },
  "language_info": {
   "codemirror_mode": {
    "name": "ipython",
    "version": 3
   },
   "file_extension": ".py",
   "mimetype": "text/x-python",
   "name": "python",
   "nbconvert_exporter": "python",
   "pygments_lexer": "ipython3",
   "version": "3.7.6"
  }
 },
 "nbformat": 4,
 "nbformat_minor": 2
}
